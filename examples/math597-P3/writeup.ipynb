{
 "cells": [
  {
   "cell_type": "markdown",
   "id": "6b62873d",
   "metadata": {},
   "source": [
    "# Math 597\n",
    "\n",
    "## Project #3\n",
    "\n",
    "## Damyn Chipman\n",
    "\n",
    "---"
   ]
  },
  {
   "cell_type": "markdown",
   "id": "2ce17ed7",
   "metadata": {},
   "source": [
    "### Introduction\n",
    "\n",
    "The final set of equations we will look at in 1D are elliptic type equations. Elliptic equations arise in a variety of physics applications and require a slightly different approach when solving them than hyperbolic equations.\n",
    "\n",
    "Primarily, we will need to take a good look at the boundary conditions imposed on elliptic problems as they dicate how the solution behaves. We'll look at how to apply both a Dirichlet and Neumann boundary condition to our elliptic solver.\n",
    "\n",
    "We'll go through the derivation of the local and global matrices we will construct, as well as the code and algorithms required to generate them. We'll also do our standard convergence analysis.\n",
    "\n",
    "As always, the code for this project is housed on GitHub on the [HydroForest](https://github.com/DamynChipman/HydroForest.git) repository."
   ]
  },
  {
   "cell_type": "markdown",
   "id": "a05d379e",
   "metadata": {},
   "source": [
    "### Problem Statement\n",
    "\n",
    "We will consider the following boundary value problem (BVP):\n",
    "\n",
    "$$\\begin{align}\n",
    "PDE: &\\ \\  \\frac{d^2 q(x)}{dx^2} + q(x) = f(x), & \\forall x \\in \\Omega = [-1,1] \\\\\n",
    "BC: &\\ \\  q(x)|_{x=-1} = g = 0 \\\\\n",
    "BC: &\\ \\  \\frac{dq(x)}{dx}|_{x=1} = h = -\\pi \\\\\n",
    "\\end{align}$$\n",
    "\n",
    "where $f(x) = (1 - \\pi^2) \\sin(\\pi x)$ and the exact solution is known to be $q(x) = \\sin(\\pi x)$.\n",
    "\n",
    "This equation is known as Helmholtz equation."
   ]
  },
  {
   "cell_type": "markdown",
   "id": "fe2275c2",
   "metadata": {},
   "source": [
    "### From PDE to Element Linear Systems\n",
    "\n",
    "Let's use our standard Galerkin approach to form a system of linear equations on the reference element.\n",
    "\n",
    "We start by expressing $q$ and $f$ in terms of an expansion of basis functions:\n",
    "\n",
    "$$\\begin{align}\n",
    "q(x) \\approx q_N^{(e)} = \\sum_{j=0}^N \\psi_j(x) q_j^{(e)} \\\\\n",
    "f(x) \\approx f_N^{(e)} = f(q_N^{(e)}) \\\\\n",
    "\\end{align}$$\n",
    "\n",
    "The CG and DG approaches diverge from the start for this case, so let's start with the CG approach.\n",
    "\n",
    "#### Continuous Galerkin (CG) Method\n",
    "\n",
    "We multiply our PDE by a test function that is the same as our basis function (the Galerkin principle) and integrate over an individual element:"
   ]
  },
  {
   "cell_type": "markdown",
   "id": "cc5ab9c7",
   "metadata": {},
   "source": [
    "$$\\begin{align}\n",
    "\\int_{\\Omega_e} \\psi_i(x) \\frac{d^2 q^{(e)}_{N}(x)}{dx^2} d\\Omega_e + \\int_{\\Omega_e} \\psi_i(x) q^{(e)}_N (x) d\\Omega_e &= \\int_{\\Omega_e} \\psi_i(x) f^{(e)}_N d\\Omega_e\n",
    "\\end{align}$$"
   ]
  },
  {
   "cell_type": "markdown",
   "id": "20c5b281",
   "metadata": {},
   "source": [
    "Using the product rule, we expand the first term to give us:"
   ]
  },
  {
   "cell_type": "markdown",
   "id": "cecd2fea",
   "metadata": {},
   "source": [
    "$$\\begin{align}\n",
    "\\int_{\\Omega_e} \\Big( \\frac{d}{dx} \\big[ \\psi_i(x) \\frac{dq^{(e)}_N(x)}{dx} \\big] - \\frac{d\\psi_i(x)}{dx} \\frac{dq^{(e)}_N(x)}{dx} \\Big) d\\Omega_e + \\int_{\\Omega_e} \\psi_i(x) q^{(e)}_N (x) d\\Omega_e &= \\int_{\\Omega_e} \\psi_i(x) f^{(e)}_N d\\Omega_e\n",
    "\\end{align}$$"
   ]
  },
  {
   "cell_type": "markdown",
   "id": "aba1a3e8",
   "metadata": {},
   "source": [
    "Now using the Fundamental Theorem of Calculus, we get:"
   ]
  },
  {
   "cell_type": "markdown",
   "id": "93b4c076",
   "metadata": {},
   "source": [
    "$$\\begin{align}\n",
    "\\Big[ \\psi_i(x) \\frac{dq^{(e)}_N(x)}{dx} \\Big]_{\\Gamma_e} - \\int_{\\Omega_e} \\frac{d\\psi_i(x)}{dx} \\frac{dq^{(e)}_N(x)}{dx} d\\Omega_e + \\int_{\\Omega_e} \\psi_i(x) q^{(e)}_N (x) d\\Omega_e &= \\int_{\\Omega_e} \\psi_i(x) f^{(e)}_N d\\Omega_e\n",
    "\\end{align}$$"
   ]
  },
  {
   "cell_type": "markdown",
   "id": "64b00ee5",
   "metadata": {},
   "source": [
    "Now plug in our approximation and expansion:"
   ]
  },
  {
   "cell_type": "markdown",
   "id": "014681b6",
   "metadata": {},
   "source": [
    "$$\\begin{align}\n",
    "\\Big[ \\psi_i(x) \\frac{dq^{(e)}_N(x)}{dx} \\Big]_{\\Gamma_e} - \\sum_{j=0}^{N} \\int_{\\Omega_e} \\frac{d\\psi_i(x)}{dx} \\frac{d\\psi_j(x)}{dx} d\\Omega_e q^{(e)}_j + \\sum_{j=0}^{N} \\int_{\\Omega_e} \\psi_i(x) \\psi_j(x) d\\Omega_e q^{(e)}_j &= \\sum_{j=0}^{N} \\int_{\\Omega_e} \\psi_i(x) \\psi_j(x) d\\Omega_e f^{(e)}_j\n",
    "\\end{align}$$"
   ]
  },
  {
   "cell_type": "markdown",
   "id": "38d759ae",
   "metadata": {},
   "source": [
    "Next we transform to the reference element:"
   ]
  },
  {
   "cell_type": "markdown",
   "id": "63fa7ce6",
   "metadata": {},
   "source": [
    "$$\\begin{align}\n",
    "\\Big[ \\psi_i(x) \\frac{dq^{(e)}_N(x)}{dx} \\Big]_{\\Gamma_e} - \\sum_{j=0}^{N} \\int_{\\hat{\\Omega}} \\frac{d\\psi_i(\\xi)}{d\\xi} \\frac{d\\psi_j(\\xi)}{d\\xi} \\frac{d\\xi}{dx} d\\hat{\\Omega} q^{(e)}_j + \\sum_{j=0}^{N} \\int_{\\hat{\\Omega}} \\psi_i(\\xi) \\psi_j(\\xi) \\frac{dx}{d\\xi} d\\hat{\\Omega} q^{(e)}_j &= \\sum_{j=0}^{N} \\int_{\\hat{\\Omega}} \\psi_i(\\xi) \\psi_j(\\xi) \\frac{dx}{d\\xi} d\\hat{\\Omega} f^{(e)}_j\n",
    "\\end{align}$$"
   ]
  },
  {
   "cell_type": "markdown",
   "id": "8f79b5bb",
   "metadata": {},
   "source": [
    "Which will result in the following local element system:"
   ]
  },
  {
   "cell_type": "markdown",
   "id": "db3a3da1",
   "metadata": {},
   "source": [
    "$$\\begin{align}\n",
    "B^{(e)}_i -L^{(e)}_{ij} q^{(e)}_j + M^{(e)}_{ij} q^{(e)}_j &= M^{(e)}_{ij} f^{(e)}_j \\\\\n",
    "\\Rightarrow (-L^{(e)}_{ij} + M^{(e)}_{ij}) q^{(e)}_j &= M^{(e)}_{ij} f^{(e)}_j - B^{(e)}_i \\\\\n",
    "\\Rightarrow H^{(e)}_{ij} q^{(e)}_j &= M^{(e)}_{ij} f^{(e)}_j - B^{(e)}_i \\\\\n",
    "\\end{align}$$"
   ]
  },
  {
   "cell_type": "markdown",
   "id": "c0675c94",
   "metadata": {},
   "source": [
    "#### Discontinuous Galerkin (DG) Method\n",
    "\n",
    "For the DG approach, we will be using an auxilary variable to convert the second order ODE into a system of first order ODEs. We does this as follows:\n",
    "\n",
    "Let\n",
    "\n",
    "$$\\begin{align}\n",
    "Q(x) = \\frac{dq(x)}{dx}\n",
    "\\end{align}$$\n",
    "\n",
    "which gives us the following system to solve:\n",
    "\n",
    "$$\\begin{align}\n",
    "\\begin{cases}\n",
    "\\frac{dq(x)}{dx} = Q(x) \\\\\n",
    "\\frac{dQ(x)}{dx} + q(x) = f(x) \\\\\n",
    "\\end{cases}\n",
    "\\end{align}$$"
   ]
  },
  {
   "cell_type": "markdown",
   "id": "ff933b69",
   "metadata": {},
   "source": [
    "Now use our Galerkin approach by multiply both equations by a test function and integrating over an element:"
   ]
  },
  {
   "cell_type": "markdown",
   "id": "0dc08264",
   "metadata": {},
   "source": [
    "$$\\begin{align}\n",
    "\\begin{cases}\n",
    "\\int_{\\Omega_e} \\psi_i(x) \\frac{dq^{(e)}_N(x)}{dx} d\\Omega_e = \\int_{\\Omega_e} \\psi_i(x) Q^{(e)}_N(x) d\\Omega_e \\\\\n",
    "\\int_{\\Omega_e} \\psi_i(x) \\frac{dQ^{(e)}_N(x)}{dx} d\\Omega_e + \\int_{\\Omega_e} \\psi_i(x) q^{(e)}_N(x) d\\Omega_e = \\int_{\\Omega} \\psi_i(x) f^{(e)}_N(x) d\\Omega_e\n",
    "\\end{cases}\n",
    "\\end{align}$$"
   ]
  },
  {
   "cell_type": "markdown",
   "id": "ff9eb22f",
   "metadata": {},
   "source": [
    "Next, we use the product rule and the FTC to transfer a derivative off of $q$ and $Q$ onto the test functions:"
   ]
  },
  {
   "cell_type": "markdown",
   "id": "5435aa6e",
   "metadata": {},
   "source": [
    "$$\\begin{align}\n",
    "\\begin{cases}\n",
    "\\Big[ \\psi_i(x) q^{(*,e)}_N(x) \\Big]\\Big|_{\\Gamma_e} - \\int_{\\Omega_e} \\frac{d\\psi_i(x)}{dx} q^{(e)}_N(x) d\\Omega_e = \\int_{\\Omega_e} \\psi_i(x) Q^{(e)}_N(x) d\\Omega_e \\\\\n",
    "\\Big[ \\psi_i(x) Q^{(*,e)}_N(x) \\Big]\\Big|_{\\Gamma_e} - \\int_{\\Omega_e} \\frac{d\\psi_i(x)}{dx} Q^{(e)}_N(x) d\\Omega_e + \\int_{\\Omega_e} \\psi_i(x) q^{(e)}_N(x) d\\Omega_e = \\int_{\\Omega_e} \\psi_i(x) f^{(e)}_N(x) d\\Omega_e\n",
    "\\end{cases}\n",
    "\\end{align}$$"
   ]
  },
  {
   "cell_type": "markdown",
   "id": "173163c3",
   "metadata": {},
   "source": [
    "Now plug in our expansion..."
   ]
  },
  {
   "cell_type": "markdown",
   "id": "5ddd54b5",
   "metadata": {},
   "source": [
    "$$\\begin{align}\n",
    "\\begin{cases}\n",
    "\\Big[ \\psi_i(x) q^{(*,e)}_N(x) \\Big]\\Big|_{\\Gamma_e} - \\sum_{j=0}^{N} \\int_{\\Omega_e} \\frac{d\\psi_i(x)}{dx} \\psi_j(x) d\\Omega_e q^{(e)}_j = \\sum_{j=0}^{N} \\int_{\\Omega_e} \\psi_i(x) \\psi_j(x) d\\Omega_e Q^{(e)}_j \\\\\n",
    "\\Big[ \\psi_i(x) Q^{(*,e)}_N(x) \\Big]\\Big|_{\\Gamma_e} - \\sum_{j=0}^{N} \\int_{\\Omega_e} \\frac{d\\psi_i(x)}{dx} \\psi_j(x) d\\Omega_e Q^{(e)}_j + \\sum_{j=0}^{N} \\int_{\\Omega_e} \\psi_i(x) \\psi_j(x) d\\Omega_e q^{(e)}_j = \\sum_{j=0}^{N} \\int_{\\Omega_e} \\psi_i(x) \\psi_j(x) d\\Omega_e f^{(e)}_j\n",
    "\\end{cases}\n",
    "\\end{align}$$"
   ]
  },
  {
   "cell_type": "markdown",
   "id": "a17c2906",
   "metadata": {},
   "source": [
    "And transform to the reference element:"
   ]
  },
  {
   "cell_type": "markdown",
   "id": "0681e30a",
   "metadata": {},
   "source": [
    "$$\\begin{align}\n",
    "\\begin{cases}\n",
    "\\Big[ \\psi_i(x) q^{(*,e)}_N(x) \\Big]\\Big|_{\\Gamma_e} - \\sum_{j=0}^{N} \\int_{\\hat{\\Omega}} \\frac{d\\psi_i(\\xi)}{d\\xi} \\psi_j(\\xi) d\\hat{\\Omega} q^{(e)}_j = \\sum_{j=0}^{N} \\int_{\\hat{\\Omega}} \\psi_i(\\xi) \\psi_j(\\xi) \\frac{dx}{d\\xi} d\\hat{\\Omega} Q^{(e)}_j \\\\\n",
    "\\Big[ \\psi_i(x) Q^{(*,e)}_N(x) \\Big]\\Big|_{\\Gamma_e} - \\sum_{j=0}^{N} \\int_{\\hat{\\Omega}} \\frac{d\\psi_i(\\xi)}{d\\xi} \\psi_j(\\xi) d\\hat{\\Omega} Q^{(e)}_j + \\sum_{j=0}^{N} \\int_{\\hat{\\Omega}} \\psi_i(\\xi) \\psi_j(\\xi) \\frac{dx}{d\\xi} d\\hat{\\Omega} q^{(e)}_j = \\sum_{j=0}^{N} \\int_{\\hat{\\Omega}} \\psi_i(\\xi) \\psi_j(\\xi) \\frac{dx}{d\\xi} d\\hat{\\Omega} f^{(e)}_j\n",
    "\\end{cases}\n",
    "\\end{align}$$"
   ]
  },
  {
   "cell_type": "markdown",
   "id": "b65cbcdf",
   "metadata": {},
   "source": [
    "Leading us to the following system:"
   ]
  },
  {
   "cell_type": "markdown",
   "id": "269d3bb0",
   "metadata": {},
   "source": [
    "$$\\begin{align}\n",
    "\\begin{cases}\n",
    "F^{(e)}_{ij} q^{(*,e)}_j - \\tilde{D}^{(e)}_{ij} q^{(e)}_j = M^{(e)}_{ij} Q^{(e)}_j \\\\\n",
    "F^{(e)}_{ij} Q^{(*,e)}_j - \\tilde{D}^{(e)}_{ij} Q^{(e)}_j + M^{(e)}_{ij} q^{(e)}_j = M^{(e)}_{ij} f^{(e)}_j \\\\\n",
    "\\end{cases}\n",
    "\\end{align}$$"
   ]
  },
  {
   "cell_type": "markdown",
   "id": "862518c0",
   "metadata": {},
   "source": [
    "We'll look at how to solve this system as well as how to handle $F_{ij}$ and $q^{(*,e)}_j$ and $Q^{(*,e)}_j$ after we form a global system."
   ]
  },
  {
   "cell_type": "markdown",
   "id": "dc0422c0",
   "metadata": {},
   "source": [
    "### From Element Linear System to Global Linear System\n",
    "\n",
    "Just like how we used a local to global mapping matrix $ID$ in project 2, we will use the same mapping here. This also means that the direct stiffness summation (DSS) operation is fairly similar. The issue will be in how we apply the boundary conditions, but we will look at that as part of the global system.\n",
    "\n",
    "#### CG Global System\n",
    "\n",
    "Using the same DSS operations as before (except for the Laplacian matrix, where we use an inverse metric term instead), we get the following global system:"
   ]
  },
  {
   "cell_type": "markdown",
   "id": "ebe792fd",
   "metadata": {},
   "source": [
    "$$\\begin{align}\n",
    "(-L_{IJ} + M_{IJ}) q_J &= M_{IJ} f_J - B_I \\\\\n",
    "\\Rightarrow q_J &= (M_{IJ} - L_{IJ})^{-1} M_{IJ} f_J - (M_{IJ} - L_{IJ})^{-1} B_I\n",
    "\\end{align}$$"
   ]
  },
  {
   "cell_type": "markdown",
   "id": "ae078936",
   "metadata": {},
   "source": [
    "#### DG Global System\n",
    "\n",
    "We use the same DSS operations for the DG approach as well. The flux matrix, however, is slightly different. In the hyperbolic problem in project 2, we used a global flux vector computed using the Rusanov numerical flux. Becuase our elliptic problem is steady, we do not need an upwinding scheme for the numerical flux, so we just use a centered flux:\n",
    "\n",
    "$$\\begin{align}\n",
    "f^{(*,e,k)} = \\frac{1}{2} (q^{(e)} + q^{(k)})\n",
    "\\end{align}$$\n",
    "\n",
    "where $e$ is the element and $k$ is the element face. So when we DSS the DG element system, we will use an approach that seperates the flux matrix into a boundary vector and a flux matrix times just the state variables $q$ and $Q$. We'll provide details in the section below on boundary conditions.\n",
    "\n",
    "Using the DSS operation, we form the following global system and solve for $Q_J$:\n",
    "\n",
    "$$\\begin{align}\n",
    "\\begin{cases}\n",
    "B^{(q)}_I + F^*_{IJ} q_{J} - \\tilde{D}_{IJ} q_J = M_{IJ} Q_J \\\\\n",
    "B^{(Q)}_I + F^*_{IJ} Q_{J} - \\tilde{D}_{IJ} Q_J + M_{IJ} = M_{IJ} f_J \\\\\n",
    "\\end{cases}\n",
    "\\end{align}$$\n",
    "\n",
    "$$\\begin{align}\n",
    "\\Rightarrow Q_J &= (M_{IJ})^{-1} (B^{(q)}_I + \\hat{D}^{(q)}_{IJ} q_J)\n",
    "\\end{align}$$\n",
    "\n",
    "where $\\hat{D}_{IJ} = F^*_{IJ} - \\tilde{D}_{IJ}$.\n",
    "\n",
    "Now plug this into the other equation and solve for $q_J$:\n",
    "\n",
    "$$\\begin{align}\n",
    "B^{(Q)}_I + \\hat{D}^{(Q)}_{IJ}\\big( (M_{IJ})^{-1} (B^{(q)}_I + \\hat{D}^{(q)}_{IJ} q_J) \\big) + M_{IJ} q_J = M_{IJ} f_J \\\\\n",
    "\\Rightarrow H_{IJ} q_J = M_{IJ} f_J - B'_I\n",
    "\\end{align}$$\n",
    "\n",
    "where\n",
    "\n",
    "$$\\begin{align}\n",
    "H_{IJ} &= \\hat{D}^{(Q)}_{IK} M^{-1}_{KL} \\hat{D}^{(q)}_{LJ} + M_{IJ} \\\\\n",
    "B'_I &= B^{(Q)}_I - \\hat{D}^{(Q)}_{IK} M^{-1}_{KJ} B^{(q)}_J\n",
    "\\end{align}$$\n",
    "\n",
    "which does look quite eloquent compared to the actual ODE doesn't it?"
   ]
  },
  {
   "cell_type": "markdown",
   "id": "6a602254",
   "metadata": {},
   "source": [
    "### Boundary Conditions\n",
    "\n",
    "We need to look at how to apply the Dirichlet boundary condition at the left edge and the Neumann boundary condition at the right edge. These will be different for both CG and DG.\n",
    "\n",
    "#### CG Boundary Conditions\n",
    "\n",
    "Let's consider the Neumann BC first, as those are simplier in FE methods. Consider the form of the boundary integral:\n",
    "\n",
    "$$\\begin{align}\n",
    "B^{(e)}_i = \\Big[ \\psi_i(x) \\frac{dq^{(e)}_N(x)}{dx} \\Big]_{\\Gamma_e}\n",
    "\\end{align}$$"
   ]
  },
  {
   "cell_type": "markdown",
   "id": "79f7e2ec",
   "metadata": {},
   "source": [
    "This only lives on the boundary of the element, and disappears between elements. Also, at element boundary, all basis functions are either zero or unity, so we only need to worry about the $\\frac{dq}{dx}$ piece. Fortunately, we know $\\frac{dq}{dx}$ at the Neumann boundary, we simply need to create a vector with zeros everywhere except the global index point corresponding to the Neumann boundary (in this case, it's the last point). So this looks like:\n",
    "\n",
    "$$\\begin{align}\n",
    "B_I = \\begin{bmatrix}\n",
    "... & 0 & h \\\\\n",
    "\\end{bmatrix}^T = \\begin{bmatrix}\n",
    "... & 0 & -\\pi \\\\\n",
    "\\end{bmatrix}^T\n",
    "\\end{align}$$"
   ]
  },
  {
   "cell_type": "markdown",
   "id": "ec08431f",
   "metadata": {},
   "source": [
    "The Dirichlet BC cannot be inforced through the boundary vector, so we will enforce it in the strong sense. This means we will manipulate the global system to force the value of $q$ at the Dirichelt boundary to be the value we need.\n",
    "\n",
    "The global system looks like:\n",
    "\n",
    "$$\\begin{align}\n",
    "(-L_{IJ} + M_{IJ}) q_J &= M_{IJ} f_J - B_I = R_I\n",
    "\\end{align}$$"
   ]
  },
  {
   "cell_type": "markdown",
   "id": "a44c299a",
   "metadata": {},
   "source": [
    "So we change the first row of $-L_{IJ} + M_{IJ}$ to be zeros except for a one in the first row, first column. And we force the first entry in the RHS vector $R_I$ to be the value of the function at the edge. This looks like for the first row/equation of the global system:\n",
    "\n",
    "$$\\begin{align}\n",
    "\\begin{bmatrix}\n",
    "1 & 0 & 0 & ...\n",
    "\\end{bmatrix}\n",
    "\\begin{bmatrix}\n",
    "q_0 \\\\ q_1 \\\\ q_2 \\\\ \\vdots\n",
    "\\end{bmatrix} = \n",
    "\\begin{bmatrix}\n",
    "g \\\\ R_1 \\\\ R_2 \\\\ \\vdots\n",
    "\\end{bmatrix} =\n",
    "\\begin{bmatrix}\n",
    "0 \\\\ R_1 \\\\ R_2 \\\\ \\vdots\n",
    "\\end{bmatrix}\n",
    "\\end{align}$$\n",
    "\n",
    "This forces the first equation in the global system to read $q_0 = g = 0$."
   ]
  },
  {
   "cell_type": "markdown",
   "id": "6141b77e",
   "metadata": {},
   "source": [
    "#### DG Boundary Conditions\n",
    "\n",
    "Apply the DG boundary conditions are a little more tricky. We do so through the flux matrix $F_{IJ}$ and the boundary vector $B_I$.\n",
    "\n",
    "When we go from the element linear system\n",
    "\n",
    "$$\\begin{align}\n",
    "\\begin{cases}\n",
    "F^{(e)}_{ij} q^{(*,e)}_j - \\tilde{D}^{(e)}_{ij} q^{(e)}_j = M^{(e)}_{ij} Q^{(e)}_j \\\\\n",
    "F^{(e)}_{ij} Q^{(*,e)}_j - \\tilde{D}^{(e)}_{ij} Q^{(e)}_j + M^{(e)}_{ij} q^{(e)}_j = M^{(e)}_{ij} f^{(e)}_j \\\\\n",
    "\\end{cases}\n",
    "\\end{align}$$\n",
    "\n",
    "to the global linear system\n",
    "\n",
    "$$\\begin{align}\n",
    "\\begin{cases}\n",
    "B^{(q)}_I + F^*_{IJ} q_{J} - \\tilde{D}_{IJ} q_J = M_{IJ} Q_J \\\\\n",
    "B^{(Q)}_I + F^*_{IJ} Q_{J} - \\tilde{D}_{IJ} Q_J + M_{IJ} = M_{IJ} f_J \\\\\n",
    "\\end{cases}\n",
    "\\end{align}$$"
   ]
  },
  {
   "cell_type": "markdown",
   "id": "ca89b25b",
   "metadata": {},
   "source": [
    "we transfer the action of the numerical flux onto the flux vector itself. This allows us to operate with the state vectors $q_J$ and $Q_J$ freely. Forming the flux matrix then requires a new approach. We motivate it by expressing the global system first as the flux matrix from previous projects (i.e., just [-1, 0, ..., 0, 1] on the diagonal per element) times the numerical flux (centered flux in this case):"
   ]
  },
  {
   "cell_type": "markdown",
   "id": "5676d030",
   "metadata": {},
   "source": [
    "$$\\begin{align}\n",
    "F_{IJ} q^{(*,e,k)}_J =\n",
    "\\begin{bmatrix}\n",
    "-1 & & & & & & & & & & & & & & \\\\\n",
    "& \\ddots & & & & & & & & & & & & & \\\\\n",
    "& & 1 & & & & & & & & & & & & \\\\\n",
    "& & & -1 & & & & & & & & & & & \\\\\n",
    "& & & & \\ddots & & & & & & & & & & \\\\\n",
    "& & & & & 1 & & & & & & & & & \\\\\n",
    "& & & & & & \\ddots & & & & & & & & \\\\\n",
    "& & & & & & & \\ddots & & & & & & & \\\\\n",
    "& & & & & & & & \\ddots & & & & & & \\\\\n",
    "& & & & & & & & & -1 & & & & & \\\\\n",
    "& & & & & & & & & & \\ddots & & & & \\\\\n",
    "& & & & & & & & & & & 1 & & & \\\\\n",
    "& & & & & & & & & & & & -1 & & \\\\\n",
    "& & & & & & & & & & & & & \\ddots & \\\\\n",
    "& & & & & & & & & & & & & & 1 \\\\\n",
    "\\end{bmatrix}\n",
    "\\begin{bmatrix}\n",
    "q^{(*,0,-1)} \\\\\n",
    "\\vdots \\\\\n",
    "q^{(*,0,1)} \\\\\n",
    "q^{(*,1,0)} \\\\\n",
    "\\vdots \\\\\n",
    "q^{(*,1,2)} \\\\\n",
    "\\vdots \\\\\n",
    "\\vdots \\\\\n",
    "\\vdots \\\\\n",
    "q^{(*,N_{e}-2,N_{e}-3)} \\\\\n",
    "\\vdots \\\\\n",
    "q^{(*,N_{e}-2,N_{e}-1)} \\\\\n",
    "q^{(*,N_{e}-1,N_{e}-2)} \\\\\n",
    "\\vdots \\\\\n",
    "q^{(*,N_{e}-1,N_{e})} \\\\\n",
    "\\end{bmatrix}\n",
    "\\end{align}$$"
   ]
  },
  {
   "cell_type": "markdown",
   "id": "7692a05f",
   "metadata": {},
   "source": [
    "Now for each element interface, we consider the numerical flux scheme we are using and write the system in terms of the state variables instead of numerical flux variables. For example, at the right edge of the first element, we would get:\n",
    "\n",
    "$$\\begin{align}\n",
    "q^{(*,0,1)} = \\frac{1}{2} (q_N + q_{N+1})\n",
    "\\end{align}$$\n",
    "\n",
    "Rewriting the system as such yields:"
   ]
  },
  {
   "cell_type": "markdown",
   "id": "e03a39cf",
   "metadata": {},
   "source": [
    "$$\\begin{align}\n",
    "F^*_{IJ} q_J =\n",
    "\\begin{bmatrix}\n",
    "? & & & & & & & & & & & & & & \\\\\n",
    "& \\ddots & & & & & & & & & & & & & \\\\\n",
    "& & \\frac{1}{2} & \\frac{1}{2} & & & & & & & & & & & \\\\\n",
    "& & -\\frac{1}{2} & -\\frac{1}{2} & & & & & & & & & & & \\\\\n",
    "& & & & \\ddots & & & & & & & & & & \\\\\n",
    "& & & & & \\frac{1}{2} & \\frac{1}{2} & & & & & & & & \\\\\n",
    "& & & & & & \\ddots & & & & & & & & \\\\\n",
    "& & & & & & & \\ddots & & & & & & & \\\\\n",
    "& & & & & & & & \\ddots & & & & & & \\\\\n",
    "& & & & & & & & -\\frac{1}{2} & -\\frac{1}{2} & & & & & \\\\\n",
    "& & & & & & & & & & \\ddots & & & & \\\\\n",
    "& & & & & & & & & & & \\frac{1}{2} & \\frac{1}{2} & & \\\\\n",
    "& & & & & & & & & & & -\\frac{1}{2} & -\\frac{1}{2} & & \\\\\n",
    "& & & & & & & & & & & & & \\ddots & \\\\\n",
    "& & & & & & & & & & & & & & ? \\\\\n",
    "\\end{bmatrix}\n",
    "\\begin{bmatrix}\n",
    "q_0 \\\\\n",
    "\\vdots \\\\\n",
    "q_{N} \\\\\n",
    "q_{N+1} \\\\\n",
    "\\vdots \\\\\n",
    "q_{2N} \\\\\n",
    "\\vdots \\\\\n",
    "\\vdots \\\\\n",
    "\\vdots \\\\\n",
    "q_{N_e(N-1)} \\\\\n",
    "\\vdots \\\\\n",
    "q_{N_e(N)} \\\\\n",
    "q_{N_e(N)+1} \\\\\n",
    "\\vdots \\\\\n",
    "q_{N_e(N+1)-1} \\\\\n",
    "\\end{bmatrix}\n",
    "\\end{align}$$"
   ]
  },
  {
   "cell_type": "markdown",
   "id": "5dcfc429",
   "metadata": {},
   "source": [
    "Now for the boundaries. We can form this system for both $q$ and $Q$. At the left edge, we need to apply Dirichlet BC, so the numerical flux looks like:\n",
    "\n",
    "$$\\begin{align}\n",
    "q^{(*,0,-1)} = \\frac{1}{2} (q_{-1} + q_0) = \\frac{1}{2} (g + q_0)\n",
    "\\end{align}$$\n",
    "\n",
    "And for the right edge, we apply Neumann BC, which look like Dirichlet BC for $Q$:\n",
    "\n",
    "$$\\begin{align}\n",
    "Q^{(*,N_e-1,N_e)} = \\frac{1}{2} (Q_{N_e(N+1)-1} + Q_{N_e(N+1)}) = \\frac{1}{2} (Q_{N_e(N+1)-1} + h)\n",
    "\\end{align}$$\n",
    "\n",
    "Now, the last piece is to figure out what to do for $q$ on the right edge (where there is no BC enforced) and $Q$ on the left edge (again, where no BC is enforced). We do this by enforcing the natural BC for $q$ or $Q$ at their respective edges:\n",
    "\n",
    "(Left edge for $Q$):\n",
    "\n",
    "$$\\begin{align}\n",
    "Q^{(*,0,-1)} = \\frac{1}{2} (Q_{-1} + Q_0) = \\frac{1}{2} (Q_0 + Q_0) = Q_0\n",
    "\\end{align}$$\n",
    "\n",
    "(Right edge for $q$):\n",
    "\n",
    "$$\\begin{align}\n",
    "q^{(*,N_e-1,N_e)} = \\frac{1}{2} (q_{N_e(N+1)-1} + q_{N_e(N+1)}) = \\frac{1}{2} (q_{N_e(N+1)-1} + q_{N_e(N+1)-1}) = q_{N_e(N+1)-1} \n",
    "\\end{align}$$"
   ]
  },
  {
   "cell_type": "markdown",
   "id": "1b98eada",
   "metadata": {},
   "source": [
    "This results in the follwing two terms: 1) a numerical flux matrix times the state vector and 2) the boundary vector.\n",
    "\n",
    "$$\\begin{align}\n",
    "F^*_{IJ} q_J + B^{(q)}_I =\n",
    "\\begin{bmatrix}\n",
    "-\\frac{1}{2} & & & & & & & & & & & & & & \\\\\n",
    "& \\ddots & & & & & & & & & & & & & \\\\\n",
    "& & \\frac{1}{2} & \\frac{1}{2} & & & & & & & & & & & \\\\\n",
    "& & -\\frac{1}{2} & -\\frac{1}{2} & & & & & & & & & & & \\\\\n",
    "& & & & \\ddots & & & & & & & & & & \\\\\n",
    "& & & & & \\frac{1}{2} & \\frac{1}{2} & & & & & & & & \\\\\n",
    "& & & & & & \\ddots & & & & & & & & \\\\\n",
    "& & & & & & & \\ddots & & & & & & & \\\\\n",
    "& & & & & & & & \\ddots & & & & & & \\\\\n",
    "& & & & & & & & -\\frac{1}{2} & -\\frac{1}{2} & & & & & \\\\\n",
    "& & & & & & & & & & \\ddots & & & & \\\\\n",
    "& & & & & & & & & & & \\frac{1}{2} & \\frac{1}{2} & & \\\\\n",
    "& & & & & & & & & & & -\\frac{1}{2} & -\\frac{1}{2} & & \\\\\n",
    "& & & & & & & & & & & & & \\ddots & \\\\\n",
    "& & & & & & & & & & & & & & 1 \\\\\n",
    "\\end{bmatrix}\n",
    "\\begin{bmatrix}\n",
    "q_0 \\\\\n",
    "\\vdots \\\\\n",
    "q_{N} \\\\\n",
    "q_{N+1} \\\\\n",
    "\\vdots \\\\\n",
    "q_{2N} \\\\\n",
    "\\vdots \\\\\n",
    "\\vdots \\\\\n",
    "\\vdots \\\\\n",
    "q_{N_e(N-1)} \\\\\n",
    "\\vdots \\\\\n",
    "q_{N_e(N)} \\\\\n",
    "q_{N_e(N)+1} \\\\\n",
    "\\vdots \\\\\n",
    "q_{N_e(N+1)-1} \\\\\n",
    "\\end{bmatrix} +\n",
    "\\begin{bmatrix}\n",
    "-\\frac{1}{2}g \\\\\n",
    "0 \\\\\n",
    "0 \\\\\n",
    "0 \\\\\n",
    "0 \\\\\n",
    "0 \\\\\n",
    "0 \\\\\n",
    "0 \\\\\n",
    "0 \\\\\n",
    "0 \\\\\n",
    "0 \\\\\n",
    "0 \\\\\n",
    "0 \\\\\n",
    "0 \\\\\n",
    "0 \\\\\n",
    "\\end{bmatrix}\n",
    "\\end{align}$$\n",
    "\n",
    "$$\\begin{align}\n",
    "F^*_{IJ} Q_J + B^{(Q)}_I =\n",
    "\\begin{bmatrix}\n",
    "-1 & & & & & & & & & & & & & & \\\\\n",
    "& \\ddots & & & & & & & & & & & & & \\\\\n",
    "& & \\frac{1}{2} & \\frac{1}{2} & & & & & & & & & & & \\\\\n",
    "& & -\\frac{1}{2} & -\\frac{1}{2} & & & & & & & & & & & \\\\\n",
    "& & & & \\ddots & & & & & & & & & & \\\\\n",
    "& & & & & \\frac{1}{2} & \\frac{1}{2} & & & & & & & & \\\\\n",
    "& & & & & & \\ddots & & & & & & & & \\\\\n",
    "& & & & & & & \\ddots & & & & & & & \\\\\n",
    "& & & & & & & & \\ddots & & & & & & \\\\\n",
    "& & & & & & & & -\\frac{1}{2} & -\\frac{1}{2} & & & & & \\\\\n",
    "& & & & & & & & & & \\ddots & & & & \\\\\n",
    "& & & & & & & & & & & \\frac{1}{2} & \\frac{1}{2} & & \\\\\n",
    "& & & & & & & & & & & -\\frac{1}{2} & -\\frac{1}{2} & & \\\\\n",
    "& & & & & & & & & & & & & \\ddots & \\\\\n",
    "& & & & & & & & & & & & & & \\frac{1}{2} \\\\\n",
    "\\end{bmatrix}\n",
    "\\begin{bmatrix}\n",
    "q_0 \\\\\n",
    "\\vdots \\\\\n",
    "q_{N} \\\\\n",
    "q_{N+1} \\\\\n",
    "\\vdots \\\\\n",
    "q_{2N} \\\\\n",
    "\\vdots \\\\\n",
    "\\vdots \\\\\n",
    "\\vdots \\\\\n",
    "q_{N_e(N-1)} \\\\\n",
    "\\vdots \\\\\n",
    "q_{N_e(N)} \\\\\n",
    "q_{N_e(N)+1} \\\\\n",
    "\\vdots \\\\\n",
    "q_{N_e(N+1)-1} \\\\\n",
    "\\end{bmatrix} +\n",
    "\\begin{bmatrix}\n",
    "0 \\\\\n",
    "0 \\\\\n",
    "0 \\\\\n",
    "0 \\\\\n",
    "0 \\\\\n",
    "0 \\\\\n",
    "0 \\\\\n",
    "0 \\\\\n",
    "0 \\\\\n",
    "0 \\\\\n",
    "0 \\\\\n",
    "0 \\\\\n",
    "0 \\\\\n",
    "0 \\\\\n",
    "\\frac{1}{2}h \\\\\n",
    "\\end{bmatrix}\n",
    "\\end{align}$$"
   ]
  },
  {
   "cell_type": "markdown",
   "id": "485a7423",
   "metadata": {},
   "source": [
    "The algorithm for forming $F^*_{IJ}$ follows Algorithm 6.4 from the book and the code is provided below:"
   ]
  },
  {
   "cell_type": "markdown",
   "id": "371c2d5a",
   "metadata": {},
   "source": [
    "```C++\n",
    "template<typename NumericalType>\n",
    "class DGGlobalCenteredFluxMatrix : public Matrix<NumericalType> {\n",
    "\n",
    "public:\n",
    "\n",
    "    DGGlobalCenteredFluxMatrix(std::vector<Element1D<NumericalType>>& elements, Matrix<int>& IDMatrix, BoundaryConditionType leftBoundaryType, BoundaryConditionType rightBoundaryType) :\n",
    "        Matrix<NumericalType>(elements.size()*(IDMatrix.nRows()), elements.size()*(IDMatrix.nRows()), 0) {\n",
    "\n",
    "        //\n",
    "        int N = IDMatrix.nRows()-1;\n",
    "        for (auto e = 0; e < elements.size(); e++) {\n",
    "            int L, R, I, J;\n",
    "\n",
    "            // Identify left and right elements\n",
    "            L = e-1;\n",
    "            R = e+1;\n",
    "            if (e == 0) {\n",
    "                if (leftBoundaryType == BoundaryConditionType::Periodic) L = elements.size()-1;\n",
    "                else L = -1;\n",
    "            }\n",
    "            else if (e == elements.size()-1) {\n",
    "                if (rightBoundaryType == BoundaryConditionType::Periodic) R = 0;\n",
    "                else R = -1;\n",
    "            }\n",
    "\n",
    "            if (L != -1) {\n",
    "                I = IDMatrix(0, e);\n",
    "                J = IDMatrix(N, L);\n",
    "                this->operator()(I,I) = -0.5;\n",
    "                this->operator()(I,J) = -0.5;\n",
    "            }\n",
    "            else {\n",
    "                I = 0;\n",
    "                this->operator()(I,I) = 1.0;\n",
    "            }\n",
    "\n",
    "            if (R != -1) {\n",
    "                I = IDMatrix(N, e);\n",
    "                J = IDMatrix(0, R);\n",
    "                this->operator()(I,I) = 0.5;\n",
    "                this->operator()(I,J) = 0.5;\n",
    "            }\n",
    "            else {\n",
    "                I = this->nRows()-1;\n",
    "                this->operator()(I,I) = 1.0;\n",
    "            }\n",
    "        }\n",
    "\n",
    "    }\n",
    "\n",
    "};\n",
    "```"
   ]
  },
  {
   "cell_type": "markdown",
   "id": "d4252703",
   "metadata": {},
   "source": [
    "With the matrices formed above, we can now solve for $q_J$ using the equation we derived as part of the global linear system."
   ]
  },
  {
   "cell_type": "markdown",
   "id": "4dd105ba",
   "metadata": {},
   "source": [
    "### Results\n",
    "\n",
    "#### Plots\n",
    "\n",
    "Below are plots of the numerical and exact solution for various orders and number of elements:\n",
    "\n",
    "##### Exact Integration\n",
    "\n",
    "CG | DG\n",
    "- | -\n",
    "![](plot_solution_CG_exact_p1_n4.png) | ![](plot_solution_DG_exact_p1_n4.png)\n",
    "![](plot_solution_CG_exact_p1_n16.png) | ![](plot_solution_DG_exact_p1_n16.png)\n",
    "![](plot_solution_CG_exact_p1_n64.png) | ![](plot_solution_DG_exact_p1_n64.png)\n",
    "![](plot_solution_CG_exact_p16_n4.png) | ![](plot_solution_DG_exact_p16_n4.png)\n",
    "![](plot_solution_CG_exact_p16_n16.png) | ![](plot_solution_DG_exact_p16_n16.png)\n",
    "![](plot_solution_CG_exact_p16_n64.png) | ![](plot_solution_DG_exact_p16_n64.png)\n",
    "\n",
    "##### Inexact Integration\n",
    "\n",
    "CG | DG\n",
    "- | -\n",
    "![](plot_solution_CG_inexact_p1_n4.png) | ![](plot_solution_DG_inexact_p1_n4.png)\n",
    "![](plot_solution_CG_inexact_p1_n16.png) | ![](plot_solution_DG_inexact_p1_n16.png)\n",
    "![](plot_solution_CG_inexact_p1_n64.png) | ![](plot_solution_DG_inexact_p1_n64.png)\n",
    "![](plot_solution_CG_inexact_p16_n4.png) | ![](plot_solution_DG_inexact_p16_n4.png)\n",
    "![](plot_solution_CG_inexact_p16_n16.png) | ![](plot_solution_DG_inexact_p16_n16.png)\n",
    "![](plot_solution_CG_inexact_p16_n64.png) | ![](plot_solution_DG_inexact_p16_n64.png)"
   ]
  },
  {
   "cell_type": "markdown",
   "id": "07056fef",
   "metadata": {},
   "source": [
    "#### Convergance Study\n",
    "\n",
    "The `main` program in `examples/math597-P3/main.cpp` runs a convergance study for the following parameter sweeps:\n",
    "\n",
    "- Scheme : CG, DG\n",
    "- Integration Method : Exact, Inexact\n",
    "- Basis Order : 1, 2, 4, 8, 16, 32\n",
    "- Number of Elements : 4, 8, 16, 32, 64, 128\n",
    "\n",
    "This is done with MPI on 4 ranks with each rank taking one of the scheme/integration method combos. Running it produces plots of the number of degrees of freedom vs. the $L_2$ error compared to the exact solution, which is the initial solution advected around the domain once.\n",
    "\n",
    "The plots are shown below:\n",
    "\n",
    "CG | DG\n",
    "- | -\n",
    "![](plot_convergance_CG_exact.png) | ![](plot_convergance_DG_exact.png)\n",
    "![](plot_convergance_CG_inexact.png) | ![](plot_convergance_DG_inexact.png)"
   ]
  },
  {
   "cell_type": "markdown",
   "id": "4fbbf94b",
   "metadata": {},
   "source": [
    "### Discussion\n",
    "\n",
    "#### CG vs DG\n",
    "\n",
    "Looking at the convergence plots, we see that the CG cases have a slightly better rate coefficient, though both CG and DG seem to be converging at the same rate. My guess would be this has to do with the numerical flux and the discontinuity across element interfaces. If we look at a plot with lower number of elements and a lower order, the CG plot, while not correct, is closer to the solution than the DG version. And the jumps between elements only increase the error locally. This is of course corrected with higher number of elements of higher orders.\n",
    "\n",
    "#### Exact vs Inexact Integration\n",
    "\n",
    "In terms of error, there is little difference between CG exact vs inexact and DG exact vs inexact. Viewing the plots for the DG solutions, the discontinuities practically disappear.\n",
    "\n",
    "In terms of speed, when I ran this, the inexact cases finished a good couple seconds ahead of the exact method, which would be useful for saving time in a transient problem.\n",
    "\n",
    "#### Numerical Round Off Error\n",
    "\n",
    "It seems that the round off error is worse than I would have expected. While `double` precision numbers normally have 16 digits of accuracy, we are only able to get to about 12 digits with all methods. And at higher degrees of freedom, round off error drives the error significantly up. I would be interested in looking at how to drive this down, because a high order scheme should be able to give us better numerical precision here.\n",
    "\n",
    "#### Boundary Conditions\n",
    "\n",
    "The boundary conditions have a direct impact on the solution. As Helmholtz equation is a BVP, the main driver is the boundary conditions. When implementing the matrices above, any slight variance to a value on the boundary significantly changed the resulting solution. Thus, accurate boundary conditions must be enforced well!"
   ]
  },
  {
   "cell_type": "markdown",
   "id": "9be29485",
   "metadata": {},
   "source": [
    "### Conclusion\n",
    "\n",
    "In this project, we explored Helmholtz equation as a boundary value problem. We implemented a CG and DG scheme using a Laplacian matrix and a system of first order ODEs, respectively. The boundary conditions were enforced through the use of boundary vectors and flux matrices. We showed that we can get expected convergence with a wide range of number of elements and polynomial orders."
   ]
  },
  {
   "cell_type": "markdown",
   "id": "0249a6a5",
   "metadata": {},
   "source": [
    "### References\n",
    "\n",
    "Giraldo, Francis X. _An Introduction to Element-Based Galerkin Methods on Tensor-Product Bases: Analysis, Algorithms, and Applications_. Vol. 24. Springer Nature, 2020."
   ]
  },
  {
   "cell_type": "code",
   "execution_count": null,
   "id": "a759cadf",
   "metadata": {},
   "outputs": [],
   "source": []
  }
 ],
 "metadata": {
  "kernelspec": {
   "display_name": "Python 3 (ipykernel)",
   "language": "python",
   "name": "python3"
  },
  "language_info": {
   "codemirror_mode": {
    "name": "ipython",
    "version": 3
   },
   "file_extension": ".py",
   "mimetype": "text/x-python",
   "name": "python",
   "nbconvert_exporter": "python",
   "pygments_lexer": "ipython3",
   "version": "3.9.7"
  }
 },
 "nbformat": 4,
 "nbformat_minor": 5
}
